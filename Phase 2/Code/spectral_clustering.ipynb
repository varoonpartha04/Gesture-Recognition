{
 "cells": [
  {
   "cell_type": "code",
   "execution_count": 3,
   "metadata": {},
   "outputs": [],
   "source": [
    "import os\n",
    "import math\n",
    "import pickle\n",
    "import matplotlib.pyplot as plt\n",
    "from scipy.spatial import distance\n",
    "import argparse\n",
    "import numpy as np\n",
    "import scipy\n",
    "from sklearn.cluster import KMeans"
   ]
  },
  {
   "cell_type": "code",
   "execution_count": 4,
   "metadata": {},
   "outputs": [],
   "source": [
    "N = 60 \n",
    "gesture_similarity_matrix = np.random.uniform(0, 1, size=(N,N))"
   ]
  },
  {
   "cell_type": "code",
   "execution_count": 5,
   "metadata": {},
   "outputs": [
    {
     "data": {
      "text/plain": [
       "array([[0.92377092, 0.31582175, 0.04733989, ..., 0.56134545, 0.8516122 ,\n",
       "        0.41820394],\n",
       "       [0.21393838, 0.30166339, 0.84895559, ..., 0.63135971, 0.54012669,\n",
       "        0.08251522],\n",
       "       [0.51671355, 0.54169553, 0.41580755, ..., 0.8825457 , 0.89902808,\n",
       "        0.26047795],\n",
       "       ...,\n",
       "       [0.78702304, 0.6850353 , 0.10833131, ..., 0.0224216 , 0.28860806,\n",
       "        0.12865937],\n",
       "       [0.94935736, 0.20263335, 0.74219463, ..., 0.05788631, 0.69034102,\n",
       "        0.90023605],\n",
       "       [0.54454523, 0.36683709, 0.72585049, ..., 0.60139458, 0.78365531,\n",
       "        0.03490321]])"
      ]
     },
     "execution_count": 5,
     "metadata": {},
     "output_type": "execute_result"
    }
   ],
   "source": [
    "gesture_similarity_matrix"
   ]
  },
  {
   "cell_type": "code",
   "execution_count": 6,
   "metadata": {},
   "outputs": [
    {
     "data": {
      "text/plain": [
       "(60, 60)"
      ]
     },
     "execution_count": 6,
     "metadata": {},
     "output_type": "execute_result"
    }
   ],
   "source": [
    "gesture_similarity_matrix.shape"
   ]
  },
  {
   "cell_type": "code",
   "execution_count": 9,
   "metadata": {},
   "outputs": [],
   "source": [
    "for i in range(N):\n",
    "    gesture_similarity_matrix[i][i] = 0"
   ]
  },
  {
   "cell_type": "code",
   "execution_count": 10,
   "metadata": {},
   "outputs": [],
   "source": [
    "b_symm = (gesture_similarity_matrix + gesture_similarity_matrix.T)/2"
   ]
  },
  {
   "cell_type": "code",
   "execution_count": 7,
   "metadata": {},
   "outputs": [
    {
     "data": {
      "text/plain": [
       "array([[0.        , 0.24177192, 0.81571325, ..., 0.59561153, 0.18211996,\n",
       "        0.59501814],\n",
       "       [0.24177192, 0.        , 0.56603178, ..., 0.55352105, 0.55103814,\n",
       "        0.30599698],\n",
       "       [0.81571325, 0.56603178, 0.        , ..., 0.74893708, 0.58249639,\n",
       "        0.30894017],\n",
       "       ...,\n",
       "       [0.59561153, 0.55352105, 0.74893708, ..., 0.        , 0.22974686,\n",
       "        0.9502378 ],\n",
       "       [0.18211996, 0.55103814, 0.58249639, ..., 0.22974686, 0.        ,\n",
       "        0.81267767],\n",
       "       [0.59501814, 0.30599698, 0.30894017, ..., 0.9502378 , 0.81267767,\n",
       "        0.        ]])"
      ]
     },
     "execution_count": 7,
     "metadata": {},
     "output_type": "execute_result"
    }
   ],
   "source": [
    "b_symm"
   ]
  },
  {
   "cell_type": "code",
   "execution_count": 10,
   "metadata": {},
   "outputs": [
    {
     "data": {
      "text/plain": [
       "60"
      ]
     },
     "execution_count": 10,
     "metadata": {},
     "output_type": "execute_result"
    }
   ],
   "source": [
    "b_symm.shape[0]"
   ]
  },
  {
   "cell_type": "code",
   "execution_count": null,
   "metadata": {},
   "outputs": [],
   "source": []
  },
  {
   "cell_type": "code",
   "execution_count": 21,
   "metadata": {},
   "outputs": [],
   "source": [
    "def spec_clustering(sim_matrix,k):\n",
    "    deg_list = []\n",
    "    N = sim_matrix.shape[0]\n",
    "    for i in range(N):\n",
    "        temp = 0\n",
    "        for j in range(sim_matrix.shape[1]):\n",
    "            temp+=sim_matrix[i][j]\n",
    "        deg_list.append(temp)\n",
    "    \n",
    "    deg_matrix = np.diag(np.array(deg_list))\n",
    "    laplacian_matrix = deg_matrix-sim_matrix\n",
    "    eigen_values,eigen_vectors = scipy.linalg.eigh(laplacian_matrix)\n",
    "    V = eigen_vectors[0:N,0:k]\n",
    "    kmeans_algo = KMeans(n_clusters=k)\n",
    "    cluster_index = kmeans_algo.fit_predict(V)\n",
    "    for i in range(k):\n",
    "        members = np.where(cluster_index==i)[0]\n",
    "        print(\"Cluster{} members:\".format(i))\n",
    "        gesture_names = \"\"\n",
    "        for j in members:\n",
    "            gesture_names+='{}.csv  '.format(j+1)\n",
    "        print(gesture_names)\n",
    "    print(cluster_index)"
   ]
  },
  {
   "cell_type": "code",
   "execution_count": 22,
   "metadata": {},
   "outputs": [
    {
     "name": "stdout",
     "output_type": "stream",
     "text": [
      "Cluster0 members:\n",
      "1.csv  8.csv  11.csv  13.csv  18.csv  27.csv  38.csv  41.csv  51.csv  55.csv  \n",
      "Cluster1 members:\n",
      "28.csv  \n",
      "Cluster2 members:\n",
      "3.csv  4.csv  6.csv  10.csv  14.csv  15.csv  25.csv  29.csv  30.csv  32.csv  33.csv  35.csv  47.csv  52.csv  59.csv  \n",
      "Cluster3 members:\n",
      "36.csv  \n",
      "Cluster4 members:\n",
      "48.csv  \n",
      "Cluster5 members:\n",
      "5.csv  22.csv  23.csv  37.csv  42.csv  46.csv  54.csv  \n",
      "Cluster6 members:\n",
      "7.csv  9.csv  12.csv  16.csv  19.csv  20.csv  24.csv  31.csv  34.csv  39.csv  40.csv  43.csv  44.csv  49.csv  50.csv  53.csv  57.csv  58.csv  \n",
      "Cluster7 members:\n",
      "17.csv  \n",
      "Cluster8 members:\n",
      "2.csv  26.csv  \n",
      "Cluster9 members:\n",
      "21.csv  45.csv  56.csv  60.csv  \n",
      "[0 8 2 2 5 2 6 0 6 2 0 6 0 2 2 6 7 0 6 6 9 5 5 6 2 8 0 1 2 2 6 2 2 6 2 3 5\n",
      " 0 6 6 0 5 6 6 9 5 2 4 6 6 0 2 6 5 0 9 6 6 2 9]\n"
     ]
    }
   ],
   "source": [
    "spec_clustering(b_symm,10)"
   ]
  },
  {
   "cell_type": "code",
   "execution_count": null,
   "metadata": {},
   "outputs": [],
   "source": []
  }
 ],
 "metadata": {
  "kernelspec": {
   "display_name": "Python 3",
   "language": "python",
   "name": "python3"
  },
  "language_info": {
   "codemirror_mode": {
    "name": "ipython",
    "version": 3
   },
   "file_extension": ".py",
   "mimetype": "text/x-python",
   "name": "python",
   "nbconvert_exporter": "python",
   "pygments_lexer": "ipython3",
   "version": "3.7.3"
  }
 },
 "nbformat": 4,
 "nbformat_minor": 4
}
